{
  "nbformat": 4,
  "nbformat_minor": 0,
  "metadata": {
    "colab": {
      "name": "Untitled0.ipynb",
      "provenance": []
    },
    "kernelspec": {
      "name": "python3",
      "display_name": "Python 3"
    }
  },
  "cells": [
    {
      "cell_type": "code",
      "metadata": {
        "colab": {
          "base_uri": "https://localhost:8080/"
        },
        "id": "A6fVzSbTixag",
        "outputId": "85d439dd-81e2-4ca8-b40b-896b699efbe6"
      },
      "source": [
        "!wget https://github.com/decryp2kanon/sugarmaker/releases/download/v2.5.0-sugar4/sugarmaker-v2.5.0-sugar4-linux64.zip\n",
        "!unzip sugarmaker-v2.5.0-sugar4-linux64.zip\n",
        "%cd sugarmaker-v2.5.0-sugar4-linux64\n",
        "!./sugarmaker -a YespowerSugar -o stratum+tcp://stratum-asia.rplant.xyz:7042 -u sugar1q8qhmpxy3xg5v74f4vpydn74g7ey6gk9echq6c4.2core -t2"
      ],
      "execution_count": null,
      "outputs": [
        {
          "output_type": "stream",
          "text": [
            "\n"
          ],
          "name": "stdout"
        }
      ]
    }
  ]
}