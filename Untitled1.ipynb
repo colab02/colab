{
  "nbformat": 4,
  "nbformat_minor": 0,
  "metadata": {
    "colab": {
      "name": "Untitled1.ipynb",
      "provenance": [],
      "machine_shape": "hm",
      "include_colab_link": true
    },
    "kernelspec": {
      "name": "python3",
      "display_name": "Python 3"
    },
    "accelerator": "GPU"
  },
  "cells": [
    {
      "cell_type": "markdown",
      "metadata": {
        "id": "view-in-github",
        "colab_type": "text"
      },
      "source": [
        "<a href=\"https://colab.research.google.com/github/colab02/colab/blob/main/Untitled1.ipynb\" target=\"_parent\"><img src=\"https://colab.research.google.com/assets/colab-badge.svg\" alt=\"Open In Colab\"/></a>"
      ]
    },
    {
      "cell_type": "code",
      "metadata": {
        "colab": {
          "base_uri": "https://localhost:8080/"
        },
        "id": "nbJRRGGVTuNU",
        "outputId": "16ec3487-d4f1-48d5-d502-8c56031263e6"
      },
      "source": [
"import random, string, urllib.request, json, getpass, os\n",
"from IPython.display import clear_output\n",
"password = '1'\n",
"! wget -q -c -nc https://bin.equinox.io/c/4VmDzA7iaHb/ngrok-stable-linux-amd64.zip\n",
"! unzip -qq -n ngrok-stable-linux-amd64.zip\n",
"! apt-get install -qq -o=Dpkg::Use-Pty=0 openssh-server pwgen > /dev/null\n",
"! apt-get install screen\n",
"! echo root:$password | chpasswd\n",
"! mkdir -p /var/run/sshd\n",
"! echo 'PermitRootLogin yes' >> /etc/ssh/sshd_config\n",
"! echo 'PasswordAuthentication' yes >> /etc/ssh/sshd_config\n",
"! echo 'LD_LIBRARY_PATH=/usr/lib64-nvidia' >> /root/.bashrc\n",
"! echo 'export LD_LIBRARY_PATH' >> /root/.bashrc\n",
"get_ipython().system_raw('/usr/sbin/sshd -D &')\n",
"authtoken = getpass.getpass()\n",
"get_ipython().system_raw('./ngrok authtoken $authtoken && ./ngrok tcp 22 &')\n",
"with urllib.request.urlopen('http://localhost:4040/api/tunnels') as response:\n",
"  data = json.loads(response.read().decode())\n",
"  (host, port) = data['tunnels'][0]['public_url'][6:].split(':')\n",
"  print(f' root@{host} {port}')\n"
      ],
      "execution_count": null,
      "outputs": [
        {
          "output_type": "stream",
          "text": [
            "\u001b[94m i \u001b[35m09:01:03 \u001b[94methminer \u001b[0mJob: \u001b[97m09619149…\u001b[0m daggerhashimoto.eu.nicehash.com [172.65.200.133:3353]\n"
          ],
          "name": "stdout"
        }
      ]
    }
  ]
}
